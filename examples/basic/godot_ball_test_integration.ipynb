{
 "cells": [
  {
   "cell_type": "code",
   "execution_count": 1,
   "id": "8af40b52",
   "metadata": {},
   "outputs": [
    {
     "data": {
      "image/png": "[encoded data removed]",
      "text/plain": [
       "<Figure size 432x288 with 1 Axes>"
      ]
     },
     "metadata": {
      "needs_background": "light"
     },
     "output_type": "display_data"
    }
   ],
   "source": [
    "import sys\n",
    "sys.path.append(\"../../\")\n",
    "\n",
    "from lib.data.dataplot import *\n",
    "from lib.dds.dds import *\n",
    "from lib.utils.time import *\n",
    "from lib.system.basic import *\n",
    "\n",
    "dp = DataPlotter()\n",
    "dp.set_x(\"time (seconds)\")\n",
    "dp.add_y(\"pos\", \"position\")\n",
    "\n",
    "dds = DDS()\n",
    "dds.start()\n",
    "\n",
    "dds.subscribe(['speed'])\n",
    "dds.publish('force', 5000.0, DDS.DDS_TYPE_FLOAT)\n",
    "\n",
    "t = Time()\n",
    "\n",
    "integr = Integrator()\n",
    "\n",
    "t.start()\n",
    "while t.get() < 5:\n",
    "    \n",
    "    v = dds.wait('speed')\n",
    "    delta_t = t.elapsed()\n",
    "    \n",
    "    p = integr.evaluate(delta_t, v)\n",
    "    \n",
    "    dds.publish('force', 0.0, DDS.DDS_TYPE_FLOAT)\n",
    "    \n",
    "    dp.append_x(t.get())\n",
    "    dp.append_y(\"pos\", p)\n",
    "\n",
    "dp.plot()\n"
   ]
  },
  {
   "cell_type": "code",
   "execution_count": null,
   "id": "981511b8",
   "metadata": {},
   "outputs": [],
   "source": []
  },
  {
   "cell_type": "code",
   "execution_count": null,
   "id": "f55881b9",
   "metadata": {},
   "outputs": [],
   "source": []
  },
  {
   "cell_type": "code",
   "execution_count": null,
   "id": "ff243f26",
   "metadata": {},
   "outputs": [],
   "source": []
  }
 ],
 "metadata": {
  "kernelspec": {
   "display_name": "Python 3 (ipykernel)",
   "language": "python",
   "name": "python3"
  },
  "language_info": {
   "codemirror_mode": {
    "name": "ipython",
    "version": 3
   },
   "file_extension": ".py",
   "mimetype": "text/x-python",
   "name": "python",
   "nbconvert_exporter": "python",
   "pygments_lexer": "ipython3",
   "version": "3.10.12"
  }
 },
 "nbformat": 4,
 "nbformat_minor": 5
}
