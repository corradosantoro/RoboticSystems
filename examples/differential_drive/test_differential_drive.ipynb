{
 "cells": [
  {
   "cell_type": "code",
   "execution_count": 1,
   "id": "746b4002",
   "metadata": {},
   "outputs": [
    {
     "ename": "NameError",
     "evalue": "name 'current_left' is not defined",
     "output_type": "error",
     "traceback": [
      "\u001b[0;31m---------------------------------------------------------------------------\u001b[0m",
      "\u001b[0;31mNameError\u001b[0m                                 Traceback (most recent call last)",
      "\u001b[0;32m/tmp/ipykernel_25598/1289656148.py\u001b[0m in \u001b[0;36m<module>\u001b[0;34m\u001b[0m\n\u001b[1;32m     54\u001b[0m \u001b[0;34m\u001b[0m\u001b[0m\n\u001b[1;32m     55\u001b[0m     \u001b[0mleft_w\u001b[0m\u001b[0;34m.\u001b[0m\u001b[0mappend_x\u001b[0m\u001b[0;34m(\u001b[0m\u001b[0mt\u001b[0m\u001b[0;34m.\u001b[0m\u001b[0mget\u001b[0m\u001b[0;34m(\u001b[0m\u001b[0;34m)\u001b[0m\u001b[0;34m)\u001b[0m\u001b[0;34m\u001b[0m\u001b[0;34m\u001b[0m\u001b[0m\n\u001b[0;32m---> 56\u001b[0;31m     \u001b[0mleft_w\u001b[0m\u001b[0;34m.\u001b[0m\u001b[0mappend_y\u001b[0m\u001b[0;34m(\u001b[0m\u001b[0;34m\"current_speed\"\u001b[0m\u001b[0;34m,\u001b[0m \u001b[0mcurrent_left\u001b[0m\u001b[0;34m)\u001b[0m\u001b[0;34m\u001b[0m\u001b[0;34m\u001b[0m\u001b[0m\n\u001b[0m\u001b[1;32m     57\u001b[0m \u001b[0;34m\u001b[0m\u001b[0m\n\u001b[1;32m     58\u001b[0m     \u001b[0mright_w\u001b[0m\u001b[0;34m.\u001b[0m\u001b[0mappend_x\u001b[0m\u001b[0;34m(\u001b[0m\u001b[0mt\u001b[0m\u001b[0;34m.\u001b[0m\u001b[0mget\u001b[0m\u001b[0;34m(\u001b[0m\u001b[0;34m)\u001b[0m\u001b[0;34m)\u001b[0m\u001b[0;34m\u001b[0m\u001b[0;34m\u001b[0m\u001b[0m\n",
      "\u001b[0;31mNameError\u001b[0m: name 'current_left' is not defined"
     ]
    }
   ],
   "source": [
    "import sys\n",
    "sys.path.append(\"../../\")\n",
    "\n",
    "#\n",
    "# TO BE USED WITH godot/card2D_no_physics\n",
    "#\n",
    "\n",
    "from lib.data.dataplot import *\n",
    "from lib.system.cart import *\n",
    "from lib.system.controllers import *\n",
    "from lib.dds.dds import *\n",
    "from lib.utils.time import *\n",
    "\n",
    "left_w = DataPlotter()\n",
    "left_w.set_x(\"time (seconds)\")\n",
    "left_w.add_y(\"current_speed\", \"Current Left Speed\")\n",
    "\n",
    "right_w = DataPlotter()\n",
    "right_w.set_x(\"time (seconds)\")\n",
    "right_w.add_y(\"current_speed\", \"Current Right Speed\")\n",
    "\n",
    "dds = DDS()\n",
    "dds.start()\n",
    "\n",
    "#dds.subscribe(['tick'])\n",
    "\n",
    "cart2d = TwoWheelsCart2DEncodersOdometry(1.0, # 1 kg \n",
    "                                         0.3, # 30cm radius\n",
    "                                         0.9, 0.8, # linear and angular friction\n",
    "                                         0.04, 0.04, # traction wheels radius 4cm\n",
    "                                         0.4, # traction wheels timebase 40cm\n",
    "                                         0.03, 0.03, # encoder wheels radius 3cm\n",
    "                                         0.5, # encoder wheels timebase 50cm\n",
    "                                         4096) # resolution 4096 tick/rev\n",
    "\n",
    "t = Time()\n",
    "t.start()\n",
    "\n",
    "torque_left = -1.0\n",
    "torque_right = 1.0\n",
    "\n",
    "while t.get() < 3:\n",
    "\n",
    "    #dds.wait('tick')\n",
    "    t.sleep(0.005)\n",
    "    delta_t = t.elapsed()\n",
    "    \n",
    "    (current_left, current_right) = cart2d.get_wheel_speed()\n",
    "\n",
    "    cart2d.evaluate(delta_t, torque_left, torque_right)\n",
    "    \n",
    "    pose = cart2d.get_pose()\n",
    "    dds.publish('X', pose[0], DDS.DDS_TYPE_FLOAT)\n",
    "    dds.publish('Y', pose[1], DDS.DDS_TYPE_FLOAT)\n",
    "    dds.publish('Theta', pose[2], DDS.DDS_TYPE_FLOAT)\n",
    "\n",
    "    left_w.append_x(t.get())\n",
    "    left_w.append_y(\"current_speed\", current_left)\n",
    "    \n",
    "    right_w.append_x(t.get())\n",
    "    right_w.append_y(\"current_speed\", current_right)\n",
    "\n",
    "dds.stop()\n",
    "\n",
    "left_w.plot()\n",
    "right_w.plot()\n"
   ]
  },
  {
   "cell_type": "code",
   "execution_count": null,
   "id": "47967e88",
   "metadata": {},
   "outputs": [],
   "source": []
  },
  {
   "cell_type": "code",
   "execution_count": null,
   "id": "c2d27a06",
   "metadata": {},
   "outputs": [],
   "source": []
  }
 ],
 "metadata": {
  "kernelspec": {
   "display_name": "Python 3 (ipykernel)",
   "language": "python",
   "name": "python3"
  },
  "language_info": {
   "codemirror_mode": {
    "name": "ipython",
    "version": 3
   },
   "file_extension": ".py",
   "mimetype": "text/x-python",
   "name": "python",
   "nbconvert_exporter": "python",
   "pygments_lexer": "ipython3",
   "version": "3.10.12"
  }
 },
 "nbformat": 4,
 "nbformat_minor": 5
}
