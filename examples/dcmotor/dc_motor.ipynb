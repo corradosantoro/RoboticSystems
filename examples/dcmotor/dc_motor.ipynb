{
 "cells": [
  {
   "cell_type": "code",
   "execution_count": 6,
   "id": "8af40b52",
   "metadata": {},
   "outputs": [
    {
     "data": {
      "image/png": "[encoded data removed]",
      "text/plain": [
       "<Figure size 432x288 with 1 Axes>"
      ]
     },
     "metadata": {
      "needs_background": "light"
     },
     "output_type": "display_data"
    },
    {
     "name": "stdout",
     "output_type": "stream",
     "text": [
      "523.7286342967984\n"
     ]
    }
   ],
   "source": [
    "import sys\n",
    "sys.path.append(\"../../\")\n",
    "\n",
    "import time\n",
    "import math\n",
    "\n",
    "from lib.data.dataplot import *\n",
    "from lib.utils.time import *\n",
    "\n",
    "class ElectricPart:\n",
    "\n",
    "    def __init__(self, _R, _L):\n",
    "        self.R = _R\n",
    "        self.L = _L\n",
    "        self.I = 0\n",
    "\n",
    "    def evaluate(self, V, delta_t):\n",
    "        self.I = (1 - self.R * delta_t / self.L) * self.I + (delta_t / self.L) * V\n",
    "        return self.I\n",
    "\n",
    "\n",
    "class TorqueToOmega:\n",
    "\n",
    "    def __init__(self, _J, _b):\n",
    "        self.J = _J\n",
    "        self.b = _b\n",
    "        self.w = 0\n",
    "\n",
    "    def evaluate(self, T, delta_t):\n",
    "        self.w = (1 - self.b * delta_t / self.J) * self.w + (delta_t / self.J) * T\n",
    "        return self.w\n",
    "\n",
    "\n",
    "class DCMotor:\n",
    "    #\n",
    "    # _R, resistance of the inductor\n",
    "    # _L, impedence of the inductor\n",
    "    # _Kt, torque coefficient\n",
    "    # _Ke, BackEMF coefficient\n",
    "    # _Wm, Wheel Mass\n",
    "    # _Wr, Wheel Radius\n",
    "    # _b, Friction coefficient\n",
    "    #\n",
    "    def __init__(self, _R, _L, _Kt, _Ke, _Wm, _Wr, _b):\n",
    "        # inertial moment of the wheel\n",
    "        _J = 0.5 * _Wm * _Wr**2\n",
    "        # electric part\n",
    "        self.electric = ElectricPart(_R, _L)\n",
    "        # motion part\n",
    "        self.torque_to_omega = TorqueToOmega(_J, _b)\n",
    "        # other coefficients\n",
    "        self.Kt =_Kt\n",
    "        self.Ke = _Ke\n",
    "        self.omega = 0\n",
    "\n",
    "    def evaluate(self, delta_t, Vin):\n",
    "        # electric part\n",
    "        V = Vin - self.Ke * self.omega\n",
    "        I = self.electric.evaluate(V, delta_t)\n",
    "        T = I * self.Kt\n",
    "        self.omega = self.torque_to_omega.evaluate(T, delta_t)\n",
    "        return self.omega\n",
    "\n",
    "dps = DataPlotter()\n",
    "dps.set_x(\"time (seconds)\")\n",
    "dps.add_y(\"speed\", \"speed\")\n",
    "\n",
    "m = DCMotor(1.45,     # R, 1.45 ohm\n",
    "            130e-6,   # L, 130 microHenry\n",
    "            0.0169,   # Kt, torque constant 16.9 mNm/A\n",
    "            (60.0 * 0.00177)/(2*math.pi),  # Ke, back EMF constant, 1.77 mV/rpm\n",
    "            0.1, # Wheel Mass 0.1kg\n",
    "            0.05, # Wheel radius, 5cm\n",
    "            7e-5) # friction\n",
    "\n",
    "\n",
    "tm = Time(use_fake_time=True)\n",
    "tm.start()\n",
    "while tm.get() < 4:\n",
    "\n",
    "    tm.sleep(0.0001)\n",
    "    delta_t = tm.elapsed()\n",
    "    w = m.evaluate(delta_t, 12)\n",
    "\n",
    "    dps.append_x(tm.get())\n",
    "    dps.append_y(\"speed\", w)\n",
    "    \n",
    "dps.plot()\n",
    "print(w)"
   ]
  },
  {
   "cell_type": "code",
   "execution_count": null,
   "id": "981511b8",
   "metadata": {},
   "outputs": [],
   "source": []
  },
  {
   "cell_type": "code",
   "execution_count": null,
   "id": "f55881b9",
   "metadata": {},
   "outputs": [],
   "source": []
  },
  {
   "cell_type": "code",
   "execution_count": null,
   "id": "ff243f26",
   "metadata": {},
   "outputs": [],
   "source": []
  }
 ],
 "metadata": {
  "kernelspec": {
   "display_name": "Python 3 (ipykernel)",
   "language": "python",
   "name": "python3"
  },
  "language_info": {
   "codemirror_mode": {
    "name": "ipython",
    "version": 3
   },
   "file_extension": ".py",
   "mimetype": "text/x-python",
   "name": "python",
   "nbconvert_exporter": "python",
   "pygments_lexer": "ipython3",
   "version": "3.10.12"
  }
 },
 "nbformat": 4,
 "nbformat_minor": 5
}
