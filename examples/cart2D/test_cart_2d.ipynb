{
 "cells": [
  {
   "cell_type": "code",
   "execution_count": 1,
   "id": "e65f9a26",
   "metadata": {},
   "outputs": [],
   "source": [
    "import sys\n",
    "sys.path.append(\"../../\")\n",
    "\n",
    "#\n",
    "# TO BE USED WITH godot/card2D_no_physics\n",
    "#\n",
    "\n",
    "from lib.system.cart import *\n",
    "from lib.dds.dds import *\n",
    "from lib.utils.time import *\n",
    "\n",
    "dds = DDS()\n",
    "dds.start()\n",
    "\n",
    "dds.subscribe(['tick'])\n",
    "\n",
    "cart2d = Cart2D(1.0, 0.15, 0.9, 0.9)\n",
    "\n",
    "force = 1\n",
    "torque = -1\n",
    "\n",
    "t = Time()\n",
    "t.start()\n",
    "while t.get() < 3:\n",
    "\n",
    "    dds.wait('tick')\n",
    "    delta_t = t.elapsed()\n",
    "    \n",
    "    cart2d.evaluate(delta_t, force, torque)\n",
    "    pose = cart2d.get_pose()\n",
    "\n",
    "    dds.publish('X', pose[0], DDS.DDS_TYPE_FLOAT)\n",
    "    dds.publish('Y', pose[1], DDS.DDS_TYPE_FLOAT)\n",
    "    dds.publish('Theta', pose[2], DDS.DDS_TYPE_FLOAT)\n",
    "\n",
    "dds.stop()\n"
   ]
  },
  {
   "cell_type": "code",
   "execution_count": null,
   "id": "0abd9fc1",
   "metadata": {},
   "outputs": [],
   "source": []
  },
  {
   "cell_type": "code",
   "execution_count": null,
   "id": "68ae9ced",
   "metadata": {},
   "outputs": [],
   "source": []
  }
 ],
 "metadata": {
  "kernelspec": {
   "display_name": "Python 3 (ipykernel)",
   "language": "python",
   "name": "python3"
  },
  "language_info": {
   "codemirror_mode": {
    "name": "ipython",
    "version": 3
   },
   "file_extension": ".py",
   "mimetype": "text/x-python",
   "name": "python",
   "nbconvert_exporter": "python",
   "pygments_lexer": "ipython3",
   "version": "3.10.12"
  }
 },
 "nbformat": 4,
 "nbformat_minor": 5
}
