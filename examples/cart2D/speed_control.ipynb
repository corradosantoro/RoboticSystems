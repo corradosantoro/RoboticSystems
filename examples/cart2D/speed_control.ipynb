{
 "cells": [
  {
   "cell_type": "code",
   "execution_count": 4,
   "id": "e65f9a26",
   "metadata": {},
   "outputs": [
    {
     "data": {
      "image/png": "[encoded data removed]",
      "text/plain": [
       "<Figure size 432x288 with 1 Axes>"
      ]
     },
     "metadata": {
      "needs_background": "light"
     },
     "output_type": "display_data"
    },
    {
     "data": {
      "image/png": "[encoded data removed]",
      "text/plain": [
       "<Figure size 432x288 with 1 Axes>"
      ]
     },
     "metadata": {
      "needs_background": "light"
     },
     "output_type": "display_data"
    }
   ],
   "source": [
    "import sys\n",
    "sys.path.append(\"../../\")\n",
    "\n",
    "#\n",
    "# TO BE USED WITH godot/card2D_no_physics\n",
    "#\n",
    "\n",
    "from lib.data.dataplot import *\n",
    "from lib.system.cart import *\n",
    "from lib.system.controllers import *\n",
    "from lib.dds.dds import *\n",
    "from lib.utils.time import *\n",
    "\n",
    "class SpeedControl2D:\n",
    "    \n",
    "    def __init__(self, _lin_params, _rot_params):\n",
    "        \"\"\"\n",
    "        Construct a speed controller for a 2D robot.\n",
    "        :params _lin_params: an array specifying [kp, ki, kd, Sat(Optional)] for linear controller\n",
    "        :params _rot_params: an array specifying [kp, ki, kd, Sat(Optional)] for angular controller\n",
    "        \"\"\"\n",
    "        self.linear_controller = PID_Controller(*_lin_params)\n",
    "        self.rotation_controller = PID_Controller(*_rot_params)\n",
    "        self.v_target = 0\n",
    "        self.w_target = 0\n",
    "    \n",
    "    def set_v_target(self, v):\n",
    "        self.v_target = v\n",
    "        \n",
    "    def set_w_target(self, w):\n",
    "        self.w_target = w\n",
    "        \n",
    "    def evaluate(self, delta_t, v_current, w_current):\n",
    "        v_error = self.v_target - v_current\n",
    "        f_out = self.linear_controller.evaluate(delta_t, v_error)\n",
    "        \n",
    "        w_error = self.w_target - w_current\n",
    "        t_out = self.rotation_controller.evaluate(delta_t, w_error)\n",
    "        \n",
    "        return (f_out, t_out)\n",
    "\n",
    "vdp = DataPlotter()\n",
    "vdp.set_x(\"time (seconds)\")\n",
    "vdp.add_y(\"target_speed\", \"Target Linear Speed\")\n",
    "vdp.add_y(\"current_speed\", \"Current Linear Speed\")\n",
    "\n",
    "wdp = DataPlotter()\n",
    "wdp.set_x(\"time (seconds)\")\n",
    "wdp.add_y(\"target_speed\", \"Target Angular Speed\")\n",
    "wdp.add_y(\"current_speed\", \"Current Angular Speed\")\n",
    "\n",
    "dds = DDS()\n",
    "dds.start()\n",
    "\n",
    "dds.subscribe(['tick'])\n",
    "\n",
    "cart2d = Cart2D(1.0, 0.3, 0.9, 0.8)\n",
    "\n",
    "speed_ctrl = SpeedControl2D([5.0, 5.0, 0.0], # parameters for linear speed controller\n",
    "                            [1.0, 8.0, 0.0]) # parameters for angular speed controller\n",
    "\n",
    "speed_ctrl.set_v_target(3)\n",
    "speed_ctrl.set_w_target(4)\n",
    "\n",
    "t = Time()\n",
    "t.start()\n",
    "while t.get() < 3:\n",
    "\n",
    "    dds.wait('tick')\n",
    "    #t.sleep(0.01)\n",
    "    delta_t = t.elapsed()\n",
    "    \n",
    "    (v, w) = cart2d.get_speed()\n",
    "    \n",
    "    (force, torque) = speed_ctrl.evaluate(delta_t, v, w)\n",
    "    \n",
    "    cart2d.evaluate(delta_t, force, torque)\n",
    "    pose = cart2d.get_pose()\n",
    "\n",
    "    dds.publish('X', pose[0], DDS.DDS_TYPE_FLOAT)\n",
    "    dds.publish('Y', pose[1], DDS.DDS_TYPE_FLOAT)\n",
    "    dds.publish('Theta', pose[2], DDS.DDS_TYPE_FLOAT)\n",
    "\n",
    "    vdp.append_x(t.get())\n",
    "    vdp.append_y(\"current_speed\", v)\n",
    "    vdp.append_y(\"target_speed\", speed_ctrl.v_target)\n",
    "    \n",
    "    wdp.append_x(t.get())\n",
    "    wdp.append_y(\"current_speed\", w)\n",
    "    wdp.append_y(\"target_speed\", speed_ctrl.w_target)\n",
    "    \n",
    "vdp.plot()\n",
    "wdp.plot()\n",
    "dds.stop()\n"
   ]
  },
  {
   "cell_type": "code",
   "execution_count": null,
   "id": "0abd9fc1",
   "metadata": {},
   "outputs": [],
   "source": []
  },
  {
   "cell_type": "code",
   "execution_count": null,
   "id": "68ae9ced",
   "metadata": {},
   "outputs": [],
   "source": []
  }
 ],
 "metadata": {
  "kernelspec": {
   "display_name": "Python 3 (ipykernel)",
   "language": "python",
   "name": "python3"
  },
  "language_info": {
   "codemirror_mode": {
    "name": "ipython",
    "version": 3
   },
   "file_extension": ".py",
   "mimetype": "text/x-python",
   "name": "python",
   "nbconvert_exporter": "python",
   "pygments_lexer": "ipython3",
   "version": "3.10.12"
  }
 },
 "nbformat": 4,
 "nbformat_minor": 5
}
