{
 "cells": [
  {
   "cell_type": "code",
   "execution_count": 3,
   "id": "01072e64",
   "metadata": {},
   "outputs": [
    {
     "data": {
      "image/png": "[encoded data removed]",
      "text/plain": [
       "<Figure size 432x288 with 1 Axes>"
      ]
     },
     "metadata": {
      "needs_background": "light"
     },
     "output_type": "display_data"
    }
   ],
   "source": [
    "import sys\n",
    "sys.path.append(\"../../\")\n",
    "import time\n",
    "\n",
    "from lib.data.dataplot import *\n",
    "from lib.utils.time import *\n",
    "from lib.system.basic import *\n",
    "\n",
    "class S:\n",
    "\n",
    "    def __init__(self):\n",
    "        self.y = 0\n",
    "\n",
    "    def evaluate(self, delta_t, _input):\n",
    "        self.y = self.y * (1 - 3 * delta_t) + 5 * _input * delta_t\n",
    "        return self.y\n",
    "\n",
    "class PIController:\n",
    "    \n",
    "    def __init__(self, _kp, _ki):\n",
    "        self.P = Proportional(_kp)\n",
    "        self.I = Integrator()\n",
    "        self.ki = _ki\n",
    "        \n",
    "    def evaluate(self, delta_t, error):\n",
    "        return self.P.evaluate(delta_t, error) + self.ki * self.I.evaluate(delta_t, error)\n",
    "\n",
    "\n",
    "class S1:\n",
    "    \n",
    "    def __init__(self):\n",
    "        self.contrl = PIController(3,2)\n",
    "        self.s = S()\n",
    "        self.y = 0\n",
    "        \n",
    "    def evaluate(self, delta_t, _input):\n",
    "        error = _input - self.y\n",
    "        out_controller = self.contrl.evaluate(delta_t, error)\n",
    "        self.y = self.s.evaluate(delta_t, out_controller)\n",
    "        return self.y\n",
    "\n",
    "\n",
    "dp = DataPlotter()\n",
    "dp.set_x(\"time (seconds)\")\n",
    "dp.add_y(\"out\", \"Output\")\n",
    "dp.add_y(\"ref\", \"Reference\")\n",
    "\n",
    "s = S1()\n",
    "u = 1\n",
    "\n",
    "# inner loop\n",
    "t = Time()\n",
    "t.start()\n",
    "while t.get() < 10:\n",
    "\n",
    "    time.sleep(0.01)\n",
    "    delta_t = t.elapsed()\n",
    "    \n",
    "    y = s.evaluate(delta_t, u)\n",
    "    \n",
    "    dp.append_x(t.get())\n",
    "    dp.append_y(\"out\", y)\n",
    "    dp.append_y(\"ref\", u)\n",
    "\n",
    "dp.plot()"
   ]
  },
  {
   "cell_type": "code",
   "execution_count": 5,
   "id": "37ca35cf",
   "metadata": {},
   "outputs": [
    {
     "data": {
      "image/png": "[encoded data removed]",
      "text/plain": [
       "<Figure size 432x288 with 1 Axes>"
      ]
     },
     "metadata": {
      "needs_background": "light"
     },
     "output_type": "display_data"
    },
    {
     "data": {
      "image/png": "[encoded data removed]",
      "text/plain": [
       "<Figure size 432x288 with 1 Axes>"
      ]
     },
     "metadata": {
      "needs_background": "light"
     },
     "output_type": "display_data"
    }
   ],
   "source": [
    "\n",
    "class CompleteSystem:\n",
    "    \n",
    "    def __init__(self):\n",
    "        self.contrl = PIController(5, 0)\n",
    "        self.s1 = S1()\n",
    "        self.integr = Integrator()\n",
    "        self.y = 0\n",
    "        \n",
    "    def evaluate(self, delta_t, _input):\n",
    "        error = _input - self.y\n",
    "        self.out_controller = self.contrl.evaluate(delta_t, error)\n",
    "        self.out_s1 = self.s1.evaluate(delta_t, self.out_controller)\n",
    "        self.y = self.integr.evaluate(delta_t, self.out_s1)\n",
    "        return self.y\n",
    "    \n",
    "dp = DataPlotter()\n",
    "dp.set_x(\"time (seconds)\")\n",
    "dp.add_y(\"out\", \"Output\")\n",
    "dp.add_y(\"ref\", \"Reference\")\n",
    "\n",
    "dp2 = DataPlotter()\n",
    "dp2.set_x(\"time (seconds)\")\n",
    "dp2.add_y(\"out\", \"Output Inner Loop\")\n",
    "dp2.add_y(\"ref\", \"Reference Inner Loop\")\n",
    "\n",
    "s = CompleteSystem()\n",
    "u = 1\n",
    "\n",
    "# outer loop\n",
    "t = Time()\n",
    "t.start()\n",
    "while t.get() < 10:\n",
    "\n",
    "    time.sleep(0.01)\n",
    "    delta_t = t.elapsed()\n",
    "    \n",
    "    y = s.evaluate(delta_t, u)\n",
    "    \n",
    "    dp.append_x(t.get())\n",
    "    dp.append_y(\"out\", y)\n",
    "    dp.append_y(\"ref\", u)\n",
    "\n",
    "    dp2.append_x(t.get())\n",
    "    dp2.append_y(\"out\", s.out_s1)\n",
    "    dp2.append_y(\"ref\", s.out_controller)\n",
    "\n",
    "dp.plot()\n",
    "dp2.plot()\n"
   ]
  }
 ],
 "metadata": {
  "kernelspec": {
   "display_name": "Python 3 (ipykernel)",
   "language": "python",
   "name": "python3"
  },
  "language_info": {
   "codemirror_mode": {
    "name": "ipython",
    "version": 3
   },
   "file_extension": ".py",
   "mimetype": "text/x-python",
   "name": "python",
   "nbconvert_exporter": "python",
   "pygments_lexer": "ipython3",
   "version": "3.10.12"
  }
 },
 "nbformat": 4,
 "nbformat_minor": 5
}
