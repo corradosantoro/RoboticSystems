{
 "cells": [
  {
   "cell_type": "code",
   "execution_count": 1,
   "id": "01072e64",
   "metadata": {},
   "outputs": [
    {
     "data": {
      "image/png": "[encoded data removed]",
      "text/plain": [
       "<Figure size 432x288 with 1 Axes>"
      ]
     },
     "metadata": {
      "needs_background": "light"
     },
     "output_type": "display_data"
    }
   ],
   "source": [
    "import sys\n",
    "sys.path.append(\"../../\")\n",
    "import time\n",
    "\n",
    "from lib.data.dataplot import *\n",
    "from lib.utils.time import *\n",
    "\n",
    "class S1:\n",
    "    \n",
    "    def __init__(self):\n",
    "        self.x1 = 0\n",
    "        self.x2 = 0\n",
    "        \n",
    "    def evaluate(self, delta_t, _input):\n",
    "        new_x2 = self.x2 * (1 - delta_t * 4) - 2 * self.x1 * delta_t + 5 * _input * delta_t\n",
    "        new_x1 = self.x1 + delta_t * self.x2\n",
    "        \n",
    "        self.x1 = new_x1\n",
    "        self.x2 = new_x2\n",
    "        \n",
    "        return self.x1\n",
    "        \n",
    "\n",
    "class S2:\n",
    "\n",
    "    def __init__(self):\n",
    "        self.y = 0\n",
    "\n",
    "    def evaluate(self, delta_t, _input):\n",
    "        self.y = self.y * (1 - 0.5*delta_t) + _input * delta_t\n",
    "        return self.y\n",
    "    \n",
    "\n",
    "class CompoundSystem:\n",
    "    \n",
    "    def __init__(self):\n",
    "        self.s1 = S1()\n",
    "        self.s2 = S2()\n",
    "        \n",
    "    def evaluate(self, delta_t, _input):\n",
    "        out_s2 = self.s2.evaluate(delta_t, _input)\n",
    "        out_s1 = self.s1.evaluate(delta_t, out_s2)\n",
    "        return out_s1\n",
    "\n",
    "dp = DataPlotter()\n",
    "dp.set_x(\"time (seconds)\")\n",
    "dp.add_y(\"out\", \"Output\")\n",
    "\n",
    "s = CompoundSystem()\n",
    "u = 1\n",
    "\n",
    "t = Time()\n",
    "t.start()\n",
    "while t.get() < 10:\n",
    "\n",
    "    time.sleep(0.01)\n",
    "    delta_t = t.elapsed()\n",
    "    \n",
    "    y = s.evaluate(delta_t, u)\n",
    "    \n",
    "    dp.append_x(t.get())\n",
    "    dp.append_y(\"out\", y)\n",
    "\n",
    "dp.plot()"
   ]
  },
  {
   "cell_type": "code",
   "execution_count": null,
   "id": "37ca35cf",
   "metadata": {},
   "outputs": [],
   "source": []
  }
 ],
 "metadata": {
  "kernelspec": {
   "display_name": "Python 3 (ipykernel)",
   "language": "python",
   "name": "python3"
  },
  "language_info": {
   "codemirror_mode": {
    "name": "ipython",
    "version": 3
   },
   "file_extension": ".py",
   "mimetype": "text/x-python",
   "name": "python",
   "nbconvert_exporter": "python",
   "pygments_lexer": "ipython3",
   "version": "3.10.12"
  }
 },
 "nbformat": 4,
 "nbformat_minor": 5
}
