{
 "cells": [
  {
   "cell_type": "code",
   "execution_count": 1,
   "id": "01072e64",
   "metadata": {},
   "outputs": [
    {
     "data": {
      "image/png": "[encoded data removed]",
      "text/plain": [
       "<Figure size 432x288 with 1 Axes>"
      ]
     },
     "metadata": {
      "needs_background": "light"
     },
     "output_type": "display_data"
    }
   ],
   "source": [
    "import sys\n",
    "sys.path.append(\"../../\")\n",
    "import time\n",
    "\n",
    "from lib.data.dataplot import *\n",
    "from lib.utils.time import *\n",
    "\n",
    "class FirstOrderSystem:\n",
    "    \n",
    "    def __init__(self, _a, _b, _c):\n",
    "        self.a = _a\n",
    "        self.b = _b\n",
    "        self.c = _c\n",
    "        self.y = 0\n",
    "        \n",
    "    def evaluate(self, delta_t, _input):\n",
    "        self.y = self.y - self.b/self.a * delta_t * self.y + self.c/self.a * delta_t * _input\n",
    "        return self.y\n",
    "    \n",
    "\n",
    "class CompoundSystem:\n",
    "    \n",
    "    def __init__(self):\n",
    "        self.s1 = FirstOrderSystem(1,3,4)\n",
    "        self.s2 = FirstOrderSystem(3,-1,1)\n",
    "        self.s3 = FirstOrderSystem(1,1,0.5)\n",
    "        self.y = 0\n",
    "        \n",
    "    def evaluate(self, delta_t, _input):\n",
    "        in_s1 = _input - self.y\n",
    "        out_s1 = self.s1.evaluate(delta_t, in_s1)\n",
    "        out_s2 = self.s2.evaluate(delta_t, out_s1)\n",
    "        out_s3 = self.s3.evaluate(delta_t, _input)\n",
    "        self.y = out_s2 + out_s3\n",
    "        return self.y\n",
    "\n",
    "dp = DataPlotter()\n",
    "dp.set_x(\"time (seconds)\")\n",
    "dp.add_y(\"out\", \"Output\")\n",
    "\n",
    "s = CompoundSystem()\n",
    "u = 1\n",
    "\n",
    "t = Time()\n",
    "t.start()\n",
    "while t.get() < 20:\n",
    "\n",
    "    time.sleep(0.01)\n",
    "    delta_t = t.elapsed()\n",
    "    \n",
    "    y = s.evaluate(delta_t, u)\n",
    "    \n",
    "    dp.append_x(t.get())\n",
    "    dp.append_y(\"out\", y)\n",
    "\n",
    "dp.plot()"
   ]
  },
  {
   "cell_type": "code",
   "execution_count": null,
   "id": "37ca35cf",
   "metadata": {},
   "outputs": [],
   "source": []
  }
 ],
 "metadata": {
  "kernelspec": {
   "display_name": "Python 3 (ipykernel)",
   "language": "python",
   "name": "python3"
  },
  "language_info": {
   "codemirror_mode": {
    "name": "ipython",
    "version": 3
   },
   "file_extension": ".py",
   "mimetype": "text/x-python",
   "name": "python",
   "nbconvert_exporter": "python",
   "pygments_lexer": "ipython3",
   "version": "3.10.12"
  }
 },
 "nbformat": 4,
 "nbformat_minor": 5
}
