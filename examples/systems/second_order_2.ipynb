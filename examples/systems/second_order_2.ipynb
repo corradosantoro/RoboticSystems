{
 "cells": [
  {
   "cell_type": "code",
   "execution_count": 1,
   "id": "cef85d2f",
   "metadata": {},
   "outputs": [
    {
     "data": {
      "image/png": "[encoded data removed]",
      "text/plain": [
       "<Figure size 432x288 with 1 Axes>"
      ]
     },
     "metadata": {
      "needs_background": "light"
     },
     "output_type": "display_data"
    }
   ],
   "source": [
    "import sys\n",
    "sys.path.append(\"../../\")\n",
    "import time\n",
    "\n",
    "from lib.data.dataplot import *\n",
    "from lib.utils.time import *\n",
    "\n",
    "class SecondOrderSystem:\n",
    "\n",
    "    def __init__(self):\n",
    "        self.x1 = 0\n",
    "        self.x2 = 0\n",
    "\n",
    "    def evaluate(self, delta_t, _input):\n",
    "        new_x1 = self.x1 + delta_t * self.x2\n",
    "        new_x2 = (1 - 3 * delta_t) * self.x2 - 10 * delta_t * self.x1 + 5 * delta_t * _input\n",
    "\n",
    "        self.x1 = new_x1\n",
    "        self.x2 = new_x2\n",
    "\n",
    "        return self.x1\n",
    "\n",
    "dp = DataPlotter()\n",
    "dp.set_x(\"time (seconds)\")\n",
    "dp.add_y(\"out\", \"Output\")\n",
    "\n",
    "s = SecondOrderSystem()\n",
    "u = 1\n",
    "\n",
    "t = Time()\n",
    "t.start()\n",
    "while t.get() < 10:\n",
    "\n",
    "    time.sleep(0.01)\n",
    "    delta_t = t.elapsed()\n",
    "    \n",
    "    y = s.evaluate(delta_t, u)\n",
    "    \n",
    "    dp.append_x(t.get())\n",
    "    dp.append_y(\"out\", y)\n",
    "\n",
    "dp.plot()"
   ]
  },
  {
   "cell_type": "code",
   "execution_count": null,
   "id": "eccbd036",
   "metadata": {},
   "outputs": [],
   "source": []
  }
 ],
 "metadata": {
  "kernelspec": {
   "display_name": "Python 3 (ipykernel)",
   "language": "python",
   "name": "python3"
  },
  "language_info": {
   "codemirror_mode": {
    "name": "ipython",
    "version": 3
   },
   "file_extension": ".py",
   "mimetype": "text/x-python",
   "name": "python",
   "nbconvert_exporter": "python",
   "pygments_lexer": "ipython3",
   "version": "3.10.12"
  }
 },
 "nbformat": 4,
 "nbformat_minor": 5
}
