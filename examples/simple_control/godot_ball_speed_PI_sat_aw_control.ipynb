{
 "cells": [
  {
   "cell_type": "code",
   "execution_count": 1,
   "id": "8af40b52",
   "metadata": {},
   "outputs": [
    {
     "data": {
      "image/png": "[encoded data removed]",
      "text/plain": [
       "<Figure size 432x288 with 1 Axes>"
      ]
     },
     "metadata": {
      "needs_background": "light"
     },
     "output_type": "display_data"
    },
    {
     "data": {
      "image/png": "[encoded data removed]",
      "text/plain": [
       "<Figure size 432x288 with 1 Axes>"
      ]
     },
     "metadata": {
      "needs_background": "light"
     },
     "output_type": "display_data"
    }
   ],
   "source": [
    "import sys\n",
    "sys.path.append(\"../../\")\n",
    "\n",
    "from lib.data.dataplot import *\n",
    "from lib.dds.dds import *\n",
    "from lib.system.basic import *\n",
    "from lib.utils.time import *\n",
    "\n",
    "class SimpleSpeedControl:\n",
    "    \n",
    "    def __init__(self, _kp, _ki, _sat):\n",
    "        self.P = Proportional(_kp)\n",
    "        self.I = Integrator()\n",
    "        self.ki = _ki\n",
    "        self.saturation = _sat\n",
    "        self.in_saturation = False\n",
    "        \n",
    "    def evaluate(self, delta_t, error):\n",
    "        out = self.P.evaluate(delta_t, error)\n",
    "        if not(self.in_saturation):\n",
    "            out += self.ki * self.I.evaluate(delta_t, error)\n",
    "        else:\n",
    "            out += self.ki * self.I.prev_output\n",
    "            \n",
    "        if out > self.saturation:\n",
    "            out = self.saturation\n",
    "            self.in_saturation = True\n",
    "        elif out < -self.saturation:\n",
    "            out = -self.saturation\n",
    "            self.in_saturation = True\n",
    "        else:\n",
    "            self.in_saturation = False\n",
    "            \n",
    "        return out\n",
    "    \n",
    "\n",
    "dp = DataPlotter()\n",
    "dp.set_x(\"time (seconds)\")\n",
    "dp.add_y(\"target\", \"Target Speed\")\n",
    "dp.add_y(\"current\", \"Current Speed\")\n",
    "\n",
    "fp = DataPlotter()\n",
    "fp.set_x(\"time (seconds)\")\n",
    "fp.add_y(\"force\", \"Force\")\n",
    "\n",
    "dds = DDS()\n",
    "dds.start()\n",
    "dds.subscribe(['speed'])\n",
    "\n",
    "target_speed = 100.0\n",
    "ctrl = SimpleSpeedControl(1.5, 0.7, 90)\n",
    "\n",
    "t = Time()\n",
    "t.start()\n",
    "while t.get() < 10:\n",
    "    \n",
    "    current_speed = dds.wait('speed')\n",
    "    delta_t = t.elapsed()\n",
    "    \n",
    "    error = target_speed - current_speed\n",
    "    force = ctrl.evaluate(delta_t, error)\n",
    "    \n",
    "    dds.publish('force', force, DDS.DDS_TYPE_FLOAT)\n",
    "    \n",
    "    dp.append_x(t.get())\n",
    "    dp.append_y(\"target\", target_speed)\n",
    "    dp.append_y(\"current\", current_speed)\n",
    "    \n",
    "    fp.append_x(t.get())\n",
    "    fp.append_y(\"force\", force)\n",
    "\n",
    "\n",
    "dds.publish('force', 0, DDS.DDS_TYPE_FLOAT)\n",
    "\n",
    "dp.plot()\n",
    "fp.plot()"
   ]
  },
  {
   "cell_type": "code",
   "execution_count": null,
   "id": "981511b8",
   "metadata": {},
   "outputs": [],
   "source": []
  },
  {
   "cell_type": "code",
   "execution_count": null,
   "id": "f55881b9",
   "metadata": {},
   "outputs": [],
   "source": []
  },
  {
   "cell_type": "code",
   "execution_count": null,
   "id": "ff243f26",
   "metadata": {},
   "outputs": [],
   "source": []
  }
 ],
 "metadata": {
  "kernelspec": {
   "display_name": "Python 3 (ipykernel)",
   "language": "python",
   "name": "python3"
  },
  "language_info": {
   "codemirror_mode": {
    "name": "ipython",
    "version": 3
   },
   "file_extension": ".py",
   "mimetype": "text/x-python",
   "name": "python",
   "nbconvert_exporter": "python",
   "pygments_lexer": "ipython3",
   "version": "3.10.12"
  }
 },
 "nbformat": 4,
 "nbformat_minor": 5
}
