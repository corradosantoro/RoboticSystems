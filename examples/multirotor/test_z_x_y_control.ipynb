{
 "cells": [
  {
   "cell_type": "code",
   "execution_count": 16,
   "id": "7f1f1404",
   "metadata": {},
   "outputs": [
    {
     "data": {
      "image/png": "[encoded data removed]",
      "text/plain": [
       "<Figure size 432x288 with 1 Axes>"
      ]
     },
     "metadata": {
      "needs_background": "light"
     },
     "output_type": "display_data"
    },
    {
     "data": {
      "image/png": "[encoded data removed]",
      "text/plain": [
       "<Figure size 432x288 with 1 Axes>"
      ]
     },
     "metadata": {
      "needs_background": "light"
     },
     "output_type": "display_data"
    },
    {
     "name": "stdout",
     "output_type": "stream",
     "text": [
      "Done\n"
     ]
    }
   ],
   "source": [
    "import sys\n",
    "sys.path.append(\"../../\")\n",
    "\n",
    "import math\n",
    "\n",
    "from lib.data.dataplot import *\n",
    "from lib.dds.dds import *\n",
    "from lib.utils.time import *\n",
    "from lib.system.controllers import *\n",
    "\n",
    "\n",
    "class Multirotor:\n",
    "\n",
    "    def __init__(self):\n",
    "        self.vz_control = PID_Controller(5.0, 10.0, 0.0, 5)\n",
    "        self.z_control = PID_Controller(2.0, 0.0, 0.0, 2)  # 2 m/s\n",
    "        \n",
    "        self.w_roll_control = PID_Controller(0.75, 0.3, 0.0075, 2)\n",
    "        self.roll_control = PID_Controller(1.0, 0.0, 0.0, 2) # max 2 rad/s\n",
    "\n",
    "        self.w_pitch_control = PID_Controller(0.75, 0.3, 0.0075, 2)\n",
    "        self.pitch_control = PID_Controller(1.0, 0.0, 0.0, 2) # max 2 rad/s\n",
    "        \n",
    "        self.vy_control = PID_Controller(0.4, 0.01, 0.25, math.radians(30))\n",
    "        self.y_control = PID_Controller(1.0, 0.0, 0.0, 2.0)\n",
    "\n",
    "        self.vx_control = PID_Controller(0.4, 0.01, 0.25, math.radians(30))\n",
    "        self.x_control = PID_Controller(1.0, 0.0, 0.0, 2.0)\n",
    "        \n",
    "        self.z_target = 1.0\n",
    "        self.x_target = 0.0\n",
    "        self.y_target = 0.0\n",
    "\n",
    "    def evaluate(self, delta_t, z, vz, x, vx, y, vy, roll, roll_rate, pitch, pitch_rate):\n",
    "        # propeller order\n",
    "        #\n",
    "        #  3     4\n",
    "        #\n",
    "        #  2     1\n",
    "        #\n",
    "        \n",
    "        # altitude control\n",
    "        self.vz_target = self.z_control.evaluate(delta_t, self.z_target - z)\n",
    "        f = self.vz_control.evaluate(delta_t, self.vz_target - vz)\n",
    "        \n",
    "        self.vy_target = self.y_control.evaluate(delta_t, self.y_target - y)\n",
    "        self.roll_target = - self.vy_control.evaluate(delta_t, self.vy_target - vy)\n",
    "        \n",
    "        self.vx_target = self.x_control.evaluate(delta_t, self.x_target - x)\n",
    "        self.pitch_target = self.vx_control.evaluate(delta_t, self.vx_target - vx)\n",
    "        \n",
    "        # roll control\n",
    "        self.roll_rate_target = self.roll_control.evaluate(delta_t, self.roll_target - roll)\n",
    "        roll_command = self.w_roll_control.evaluate(delta_t, self.roll_rate_target - roll_rate)\n",
    "        \n",
    "        # pitch control\n",
    "        self.pitch_rate_target = self.pitch_control.evaluate(delta_t, self.pitch_target - pitch)\n",
    "        pitch_command = self.w_pitch_control.evaluate(delta_t, self.pitch_rate_target - pitch_rate)\n",
    "        \n",
    "        \n",
    "        return f + roll_command - pitch_command, f - roll_command - pitch_command, \\\n",
    "                f - roll_command + pitch_command, f + roll_command + pitch_command\n",
    "\n",
    "    \n",
    "dpvz = DataPlotter()\n",
    "dpvz.set_x(\"time (seconds)\")\n",
    "dpvz.add_y(\"target_vx\", \"target_vx\")\n",
    "dpvz.add_y(\"current_vx\", \"current_vx\")\n",
    "\n",
    "dpz = DataPlotter()\n",
    "dpz.set_x(\"time (seconds)\")\n",
    "dpz.add_y(\"target_x\", \"target_x\")\n",
    "dpz.add_y(\"current_x\", \"current_x\")\n",
    "\n",
    "dds = DDS()\n",
    "dds.start()\n",
    "\n",
    "dds.subscribe(['tick', 'X', 'Y', 'Z', 'TX', 'TY', 'TZ', 'VX', 'VY', 'VZ', 'WX', 'WY', 'WZ'])\n",
    "\n",
    "robot = Multirotor()\n",
    "\n",
    "t = Time()\n",
    "t.start()\n",
    "while t.get() < 15:\n",
    "    \n",
    "    dds.wait('tick')    \n",
    "    delta_t = t.elapsed()\n",
    "    \n",
    "    z = dds.read('Z')\n",
    "    vz = dds.read('VZ')\n",
    "    \n",
    "    x = dds.read('X')\n",
    "    vx = dds.read('VX')\n",
    "    \n",
    "    y = dds.read('Y')\n",
    "    vy = dds.read('VY')\n",
    "    \n",
    "    roll = dds.read('TX')\n",
    "    roll_rate = dds.read('WX')\n",
    "    \n",
    "    pitch = dds.read('TY')\n",
    "    pitch_rate = dds.read('WY')\n",
    "    \n",
    "    (f1, f2, f3, f4) = robot.evaluate(delta_t, z, vz, x, vx, y, vy, roll, roll_rate, pitch, pitch_rate)\n",
    "\n",
    "    if abs(z - 1.0) < 0.01:\n",
    "        robot.x_target = 1.0\n",
    "        robot.y_target = 1.0\n",
    "        save_data = True\n",
    "\n",
    "    dds.publish('f1', f1, DDS.DDS_TYPE_FLOAT)\n",
    "    dds.publish('f2', f2, DDS.DDS_TYPE_FLOAT)\n",
    "    dds.publish('f3', f3, DDS.DDS_TYPE_FLOAT)\n",
    "    dds.publish('f4', f4, DDS.DDS_TYPE_FLOAT)\n",
    "    \n",
    "    dpvz.append_x(t.get())\n",
    "    dpvz.append_y(\"target_vx\", robot.vx_target)\n",
    "    dpvz.append_y(\"current_vx\", vx)\n",
    "\n",
    "    dpz.append_x(t.get())\n",
    "    dpz.append_y(\"target_x\", robot.x_target)\n",
    "    dpz.append_y(\"current_x\", x)\n",
    "\n",
    "\n",
    "dds.stop()\n",
    "dpvz.plot()\n",
    "dpz.plot()\n",
    "\n",
    "print(\"Done\")"
   ]
  },
  {
   "cell_type": "code",
   "execution_count": null,
   "id": "4c2ea411",
   "metadata": {},
   "outputs": [],
   "source": []
  },
  {
   "cell_type": "code",
   "execution_count": null,
   "id": "1833472b",
   "metadata": {},
   "outputs": [],
   "source": []
  }
 ],
 "metadata": {
  "kernelspec": {
   "display_name": "Python 3 (ipykernel)",
   "language": "python",
   "name": "python3"
  },
  "language_info": {
   "codemirror_mode": {
    "name": "ipython",
    "version": 3
   },
   "file_extension": ".py",
   "mimetype": "text/x-python",
   "name": "python",
   "nbconvert_exporter": "python",
   "pygments_lexer": "ipython3",
   "version": "3.10.12"
  }
 },
 "nbformat": 4,
 "nbformat_minor": 5
}
