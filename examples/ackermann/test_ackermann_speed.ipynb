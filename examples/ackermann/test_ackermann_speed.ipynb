{
 "cells": [
  {
   "cell_type": "code",
   "execution_count": 7,
   "id": "e65f9a26",
   "metadata": {},
   "outputs": [
    {
     "data": {
      "image/png": "[encoded data removed]",
      "text/plain": [
       "<Figure size 432x288 with 1 Axes>"
      ]
     },
     "metadata": {
      "needs_background": "light"
     },
     "output_type": "display_data"
    }
   ],
   "source": [
    "import sys\n",
    "sys.path.append(\"../../\")\n",
    "\n",
    "#\n",
    "# TO BE USED WITH godot/ackermann_no_physics\n",
    "#\n",
    "\n",
    "from lib.system.cart import *\n",
    "from lib.dds.dds import *\n",
    "from lib.utils.time import *\n",
    "from lib.system.controllers import *\n",
    "from lib.data.dataplot import *\n",
    "\n",
    "dds = DDS()\n",
    "dds.start()\n",
    "\n",
    "dds.subscribe(['tick'])\n",
    "\n",
    "cart2d = AckermannSteering(10, # mass, 10kg \n",
    "                           0.8, # friction \n",
    "                           0.5, # 50cm radius motion wheel \n",
    "                           2.0) # 2m distance between motion and steering wheels\n",
    "\n",
    "linear_speed_controller = PID_Controller(20.0, 2.0, 0)\n",
    "\n",
    "target_speed = 2.0\n",
    "steering_angle = math.radians(0)\n",
    "\n",
    "vdp = DataPlotter()\n",
    "vdp.set_x(\"time (seconds)\")\n",
    "vdp.add_y(\"target_speed\", \"Target Linear Speed\")\n",
    "vdp.add_y(\"current_speed\", \"Current Linear Speed\")\n",
    "\n",
    "\n",
    "t = Time()\n",
    "t.start()\n",
    "while t.get() < 3:\n",
    "\n",
    "    dds.wait('tick')\n",
    "    delta_t = t.elapsed()\n",
    "\n",
    "    (v, w) = cart2d.get_speed()\n",
    "    torque = linear_speed_controller.evaluate(delta_t, target_speed - v)\n",
    "    \n",
    "    cart2d.evaluate(delta_t, torque, steering_angle)\n",
    "\n",
    "    pose = cart2d.get_pose()\n",
    "\n",
    "    dds.publish('X', pose[0], DDS.DDS_TYPE_FLOAT)\n",
    "    dds.publish('Y', pose[1], DDS.DDS_TYPE_FLOAT)\n",
    "    dds.publish('Theta', pose[2], DDS.DDS_TYPE_FLOAT)\n",
    "\n",
    "    vdp.append_x(t.get())\n",
    "    vdp.append_y(\"current_speed\", v)\n",
    "    vdp.append_y(\"target_speed\", target_speed)\n",
    "\n",
    "vdp.plot()\n",
    "dds.stop()\n"
   ]
  },
  {
   "cell_type": "code",
   "execution_count": null,
   "id": "0abd9fc1",
   "metadata": {},
   "outputs": [],
   "source": []
  },
  {
   "cell_type": "code",
   "execution_count": null,
   "id": "68ae9ced",
   "metadata": {},
   "outputs": [],
   "source": []
  }
 ],
 "metadata": {
  "kernelspec": {
   "display_name": "Python 3 (ipykernel)",
   "language": "python",
   "name": "python3"
  },
  "language_info": {
   "codemirror_mode": {
    "name": "ipython",
    "version": 3
   },
   "file_extension": ".py",
   "mimetype": "text/x-python",
   "name": "python",
   "nbconvert_exporter": "python",
   "pygments_lexer": "ipython3",
   "version": "3.10.12"
  }
 },
 "nbformat": 4,
 "nbformat_minor": 5
}
