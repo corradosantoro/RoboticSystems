{
 "cells": [
  {
   "cell_type": "code",
   "execution_count": 6,
   "id": "c77d2284",
   "metadata": {},
   "outputs": [
    {
     "data": {
      "image/png": "[encoded data removed]",
      "text/plain": [
       "<Figure size 432x288 with 1 Axes>"
      ]
     },
     "metadata": {
      "needs_background": "light"
     },
     "output_type": "display_data"
    },
    {
     "data": {
      "image/png": "[encoded data removed]",
      "text/plain": [
       "<Figure size 432x288 with 1 Axes>"
      ]
     },
     "metadata": {
      "needs_background": "light"
     },
     "output_type": "display_data"
    }
   ],
   "source": [
    "#\n",
    "# use with godot/arm3_no_physics\n",
    "#\n",
    "import sys\n",
    "sys.path.append(\"../../\")\n",
    "\n",
    "from lib.data.dataplot import *\n",
    "from lib.dds.dds import *\n",
    "from lib.utils.time import *\n",
    "from lib.system.controllers import *\n",
    "from lib.system.manipulator import *\n",
    "\n",
    "class ManipulatorRobot:\n",
    "\n",
    "    def __init__(self):\n",
    "        self.arm = ThreeJointsPlanarArm(0.6, 0.58, 0.056,\n",
    "                                        0.5, 0.5, 0.5,\n",
    "                                        0.8)\n",
    "\n",
    "        # joint 1\n",
    "        self.speed_control_1 = PID_Controller(20, 5, 0,\n",
    "                                              20)  # 20Nm max torque, antiwindup\n",
    "\n",
    "        # joint 2\n",
    "        self.speed_control_2 = PID_Controller(20, 5, 0,\n",
    "                                              20)  # 20Nm max torque, antiwindup\n",
    "\n",
    "        # joint 3\n",
    "        self.speed_control_3 = PID_Controller(1, 0.4, 0,\n",
    "                                              20)  # 20Nm max torque, antiwindup\n",
    "\n",
    "        self.pos_control_1 = PID_Controller(3, 0, 0, 2)  # 2 rad/s max speed\n",
    "        self.pos_control_2 = PID_Controller(3, 0, 0, 2)  # 2 rad/s max speed\n",
    "        self.pos_control_3 = PID_Controller(3, 0, 0, 2)  # 2 rad/s max speed\n",
    "\n",
    "        #self.theta1 = math.radians(10)\n",
    "        #self.theta2 = math.radians(-120)\n",
    "        #self.theta3 = math.radians(40)\n",
    "        (x, y, a) = (0.5, 0.5, math.radians(-90))\n",
    "        (self.theta1, self.theta2, self.theta3) = self.arm.inverse_kinematics(x, y, a)\n",
    "\n",
    "    def evaluate(self, delta_t):\n",
    "\n",
    "        wref_1 = self.pos_control_1.evaluate(delta_t, self.theta1 - self.arm.element_1.theta)\n",
    "        wref_2 = self.pos_control_2.evaluate(delta_t, self.theta2 - self.arm.element_2.theta)\n",
    "        wref_3 = self.pos_control_3.evaluate(delta_t, self.theta3 - self.arm.element_3.theta)\n",
    "        \n",
    "        torque1 = self.speed_control_1.evaluate(delta_t, wref_1 - self.arm.element_1.w)\n",
    "        torque2 = self.speed_control_2.evaluate(delta_t, wref_2 - self.arm.element_2.w)\n",
    "        torque3 = self.speed_control_3.evaluate(delta_t, wref_3 - self.arm.element_3.w)\n",
    "\n",
    "        self.arm.evaluate(delta_t, torque1, torque2, torque3)\n",
    "\n",
    "    def get_joint_angles(self):\n",
    "        return self.arm.get_joint_angles()\n",
    "    \n",
    "    def get_pose(self):\n",
    "        return self.arm.get_pose()\n",
    "\n",
    "\n",
    "dps = DataPlotter()\n",
    "dps.set_x(\"time (seconds)\")\n",
    "dps.add_y(\"speed\", \"speed\")\n",
    "\n",
    "dpa = DataPlotter()\n",
    "dpa.set_x(\"time (seconds)\")\n",
    "dpa.add_y(\"cur_angle\", \"Current Angle\")\n",
    "dpa.add_y(\"target_angle\", \"Target Angle\")\n",
    "\n",
    "dds = DDS()\n",
    "dds.start()\n",
    "\n",
    "dds.subscribe(['tick'])\n",
    "\n",
    "robot = ManipulatorRobot()\n",
    "\n",
    "t = Time()\n",
    "t.start()\n",
    "while t.get() < 5:\n",
    "    \n",
    "    dds.wait('tick')    \n",
    "    delta_t = t.elapsed()\n",
    "    \n",
    "    dpa.append_x(t.get())\n",
    "    dpa.append_y(\"cur_angle\", robot.arm.element_1.theta)\n",
    "    dpa.append_y(\"target_angle\", robot.theta1)\n",
    "    \n",
    "    robot.evaluate(delta_t)\n",
    "    (t1, t2, t3) = robot.get_joint_angles()\n",
    "    (x, y, a) = robot.get_pose()\n",
    "\n",
    "    dds.publish('theta1', t1, DDS.DDS_TYPE_FLOAT)\n",
    "    dds.publish('theta2', t2, DDS.DDS_TYPE_FLOAT)\n",
    "    dds.publish('theta3', t3, DDS.DDS_TYPE_FLOAT)\n",
    "    dds.publish('x', x, DDS.DDS_TYPE_FLOAT)\n",
    "    dds.publish('y', y, DDS.DDS_TYPE_FLOAT)\n",
    "    dds.publish('a', a, DDS.DDS_TYPE_FLOAT)\n",
    "\n",
    "dps.plot()\n",
    "dpa.plot()\n",
    "\n",
    "dds.stop()\n",
    "\n"
   ]
  },
  {
   "cell_type": "code",
   "execution_count": null,
   "id": "1386ae0e",
   "metadata": {},
   "outputs": [],
   "source": []
  },
  {
   "cell_type": "code",
   "execution_count": null,
   "id": "1f3d5a55",
   "metadata": {},
   "outputs": [],
   "source": []
  },
  {
   "cell_type": "code",
   "execution_count": null,
   "id": "89212265",
   "metadata": {},
   "outputs": [],
   "source": []
  }
 ],
 "metadata": {
  "kernelspec": {
   "display_name": "Python 3 (ipykernel)",
   "language": "python",
   "name": "python3"
  },
  "language_info": {
   "codemirror_mode": {
    "name": "ipython",
    "version": 3
   },
   "file_extension": ".py",
   "mimetype": "text/x-python",
   "name": "python",
   "nbconvert_exporter": "python",
   "pygments_lexer": "ipython3",
   "version": "3.10.12"
  }
 },
 "nbformat": 4,
 "nbformat_minor": 5
}
